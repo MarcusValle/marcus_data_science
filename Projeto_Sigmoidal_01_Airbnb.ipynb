{
  "nbformat": 4,
  "nbformat_minor": 0,
  "metadata": {
    "colab": {
      "provenance": [],
      "authorship_tag": "ABX9TyN+ZU2Z8BUM8aHBOawlZ+16",
      "include_colab_link": true
    },
    "kernelspec": {
      "name": "python3",
      "display_name": "Python 3"
    },
    "language_info": {
      "name": "python"
    }
  },
  "cells": [
    {
      "cell_type": "markdown",
      "metadata": {
        "id": "view-in-github",
        "colab_type": "text"
      },
      "source": [
        "<a href=\"https://colab.research.google.com/github/MarcusValle/marcus_data_science/blob/main/Projeto_Sigmoidal_01_Airbnb.ipynb\" target=\"_parent\"><img src=\"https://colab.research.google.com/assets/colab-badge.svg\" alt=\"Open In Colab\"/></a>"
      ]
    },
    {
      "cell_type": "markdown",
      "source": [
        "<img alt=\"Colaboratory logo\" width=\"15%\" src=\"https://raw.githubusercontent.com/carlosfab/escola-data-science/master/img/novo_logo_bg_claro.png\">\n",
        "\n",
        "#### **Data Science na Prática 3.0**\n",
        "*by [sigmoidal.ai](https://sigmoidal.ai)*\n",
        "\n",
        "---\n",
        "\n",
        "# Análise dos Dados do Airbnb - *Chicago (EUA)*\n",
        "\n",
        "O [Airbnb](https://www.airbnb.com.br/) já é considerado como sendo a **maior empresa hoteleira da atualidade**. Ah, o detalhe é que ele **não possui nenhum hotel**!\n",
        "\n",
        "Conectando pessoas que querem viajar (e se hospedar) com anfitriões que querem alugar seus imóveis de maneira prática, o Airbnb fornece uma plataforma inovadora para tornar essa hospedagem alternativa.\n",
        "\n",
        "No final de 2018, a Startup fundada 10 anos atrás, já havia **hospedado mais de 300 milhões** de pessoas ao redor de todo o mundo, desafiando as redes hoteleiras tradicionais.\n",
        "\n",
        "Uma das iniciativas do Airbnb é disponibilizar dados do site, para algumas das principais cidades do mundo. Por meio do portal [Inside Airbnb](http://insideairbnb.com/get-the-data.html), é possível baixar uma grande quantidade de dados para desenvolver projetos e soluções de *Data Science*.\n",
        "\n",
        "<center><img alt=\"Analisando Airbnb\" width=\"10%\" src=\"https://www.area360.com.au/wp-content/uploads/2017/09/airbnb-logo.jpg\"></center>\n",
        "\n",
        "**Neste *notebook*, iremos analisar os dados referentes à cidade de Chicago (EUA), e ver quais insights podem ser extraídos a partir de dados brutos.**"
      ],
      "metadata": {
        "id": "0PpFBWgGFw6O"
      }
    },
    {
      "cell_type": "markdown",
      "source": [
        "## Obtenção dos Dados"
      ],
      "metadata": {
        "id": "NdqRkfPzGPJM"
      }
    },
    {
      "cell_type": "code",
      "execution_count": 1,
      "metadata": {
        "id": "K8eX9VWy3Ihf"
      },
      "outputs": [],
      "source": [
        "#importar os pacotes necessários\n",
        "import pandas as pd\n",
        "import matplotlib.pyplot as plt\n",
        "import seaborn as sns\n"
      ]
    },
    {
      "cell_type": "code",
      "source": [
        "# importar o arquivo listings.csv para um DataFrame\n",
        "df = pd.read_csv(\"http://data.insideairbnb.com/united-states/il/chicago/2022-09-14/visualisations/listings.csv\")"
      ],
      "metadata": {
        "id": "sM3EhmFdHRrk"
      },
      "execution_count": 2,
      "outputs": []
    },
    {
      "cell_type": "markdown",
      "source": [
        "## Análise dos Dados"
      ],
      "metadata": {
        "id": "JSTpChoIIWqz"
      }
    },
    {
      "cell_type": "markdown",
      "source": [
        "**Dicionário das variáveis**\n",
        "\n",
        "* id - identificação gerada para o imóvel \n",
        "* name - nome da hospedagem \n",
        "* host_id - número de identificação do proprietário do imóvel\n",
        "* host_name - nome do proprietário\n",
        "* neighbourhood_group - zona do bairro\n",
        "* neighbourhood - bairro\n",
        "* latitude - coordenada de latitude do imóvel\n",
        "* longitude - coordenada de longitude do imóvel\n",
        "* room_type - tipo de hospedagem oferecida\n",
        "* price - preço da hospedagem por noite (US$)\n",
        "* minimum_nights - número mínimo de dias de estadias para reserva\n",
        "* number_of_reviews - número de avaliações que a propriedade possui\n",
        "* last_review - última avaliação dada\n",
        "* reviews_per_month - número de avaliações por mês\n",
        "* calculated_host_listings_count - quantidade de imóveis do mesmo anfitrião\n",
        "* availability_365 - número de dias de disponibilidade dentro de 365 dias\n",
        "\n",
        "\n",
        "Antes de iniciar qualquer análise, vamos verificar a cara do nosso *dataset*, analisando as 5 primeiras entradas."
      ],
      "metadata": {
        "id": "4wtOXyYoIbpT"
      }
    },
    {
      "cell_type": "code",
      "source": [
        "#mostrar as 5 primeiras entradas\n",
        "\n",
        "df.head()\n"
      ],
      "metadata": {
        "colab": {
          "base_uri": "https://localhost:8080/",
          "height": 496
        },
        "id": "RNlhW2uKIiAT",
        "outputId": "b5d32798-71b9-423d-d3d6-be272a22e8ef"
      },
      "execution_count": 3,
      "outputs": [
        {
          "output_type": "execute_result",
          "data": {
            "text/plain": [
              "      id                                               name  host_id  \\\n",
              "0   2384                       Hyde Park - Walk to UChicago     2613   \n",
              "1   7126                Tiny Studio Apartment 94 Walk Score    17928   \n",
              "2  10945                              The Biddle House (#1)    33004   \n",
              "3  12140                           Lincoln Park Guest House    46734   \n",
              "4  24833  Prime LincolnPark 1 Block Fullerton Express L ...   101521   \n",
              "\n",
              "           host_name  neighbourhood_group neighbourhood   latitude  longitude  \\\n",
              "0            Rebecca                  NaN     Hyde Park  41.787900 -87.587800   \n",
              "1              Sarah                  NaN     West Town  41.901660 -87.680210   \n",
              "2        At Home Inn                  NaN  Lincoln Park  41.911960 -87.639810   \n",
              "3  Sharon And Robert                  NaN  Lincoln Park  41.923570 -87.649470   \n",
              "4                Red                  NaN  Lincoln Park  41.925961 -87.656364   \n",
              "\n",
              "         room_type  price  minimum_nights  number_of_reviews last_review  \\\n",
              "0     Private room    110               3                207  2022-09-09   \n",
              "1  Entire home/apt     91               2                459  2022-08-28   \n",
              "2  Entire home/apt    157               4                 56  2022-08-23   \n",
              "3     Private room    329               2                 13  2022-09-12   \n",
              "4  Entire home/apt     86              32                 40  2022-04-23   \n",
              "\n",
              "   reviews_per_month  calculated_host_listings_count  availability_365  \\\n",
              "0               2.21                               1               320   \n",
              "1               2.86                               1               320   \n",
              "2               0.55                               9               137   \n",
              "3               0.15                               1               165   \n",
              "4               0.27                               3               306   \n",
              "\n",
              "   number_of_reviews_ltm                    license  \n",
              "0                     19               R17000015609  \n",
              "1                     51               R21000075737  \n",
              "2                     23                    2209984  \n",
              "3                      6               R20000055258  \n",
              "4                      2  City registration pending  "
            ],
            "text/html": [
              "\n",
              "  <div id=\"df-7fb364de-da26-4f37-a231-4c2df598ba4c\">\n",
              "    <div class=\"colab-df-container\">\n",
              "      <div>\n",
              "<style scoped>\n",
              "    .dataframe tbody tr th:only-of-type {\n",
              "        vertical-align: middle;\n",
              "    }\n",
              "\n",
              "    .dataframe tbody tr th {\n",
              "        vertical-align: top;\n",
              "    }\n",
              "\n",
              "    .dataframe thead th {\n",
              "        text-align: right;\n",
              "    }\n",
              "</style>\n",
              "<table border=\"1\" class=\"dataframe\">\n",
              "  <thead>\n",
              "    <tr style=\"text-align: right;\">\n",
              "      <th></th>\n",
              "      <th>id</th>\n",
              "      <th>name</th>\n",
              "      <th>host_id</th>\n",
              "      <th>host_name</th>\n",
              "      <th>neighbourhood_group</th>\n",
              "      <th>neighbourhood</th>\n",
              "      <th>latitude</th>\n",
              "      <th>longitude</th>\n",
              "      <th>room_type</th>\n",
              "      <th>price</th>\n",
              "      <th>minimum_nights</th>\n",
              "      <th>number_of_reviews</th>\n",
              "      <th>last_review</th>\n",
              "      <th>reviews_per_month</th>\n",
              "      <th>calculated_host_listings_count</th>\n",
              "      <th>availability_365</th>\n",
              "      <th>number_of_reviews_ltm</th>\n",
              "      <th>license</th>\n",
              "    </tr>\n",
              "  </thead>\n",
              "  <tbody>\n",
              "    <tr>\n",
              "      <th>0</th>\n",
              "      <td>2384</td>\n",
              "      <td>Hyde Park - Walk to UChicago</td>\n",
              "      <td>2613</td>\n",
              "      <td>Rebecca</td>\n",
              "      <td>NaN</td>\n",
              "      <td>Hyde Park</td>\n",
              "      <td>41.787900</td>\n",
              "      <td>-87.587800</td>\n",
              "      <td>Private room</td>\n",
              "      <td>110</td>\n",
              "      <td>3</td>\n",
              "      <td>207</td>\n",
              "      <td>2022-09-09</td>\n",
              "      <td>2.21</td>\n",
              "      <td>1</td>\n",
              "      <td>320</td>\n",
              "      <td>19</td>\n",
              "      <td>R17000015609</td>\n",
              "    </tr>\n",
              "    <tr>\n",
              "      <th>1</th>\n",
              "      <td>7126</td>\n",
              "      <td>Tiny Studio Apartment 94 Walk Score</td>\n",
              "      <td>17928</td>\n",
              "      <td>Sarah</td>\n",
              "      <td>NaN</td>\n",
              "      <td>West Town</td>\n",
              "      <td>41.901660</td>\n",
              "      <td>-87.680210</td>\n",
              "      <td>Entire home/apt</td>\n",
              "      <td>91</td>\n",
              "      <td>2</td>\n",
              "      <td>459</td>\n",
              "      <td>2022-08-28</td>\n",
              "      <td>2.86</td>\n",
              "      <td>1</td>\n",
              "      <td>320</td>\n",
              "      <td>51</td>\n",
              "      <td>R21000075737</td>\n",
              "    </tr>\n",
              "    <tr>\n",
              "      <th>2</th>\n",
              "      <td>10945</td>\n",
              "      <td>The Biddle House (#1)</td>\n",
              "      <td>33004</td>\n",
              "      <td>At Home Inn</td>\n",
              "      <td>NaN</td>\n",
              "      <td>Lincoln Park</td>\n",
              "      <td>41.911960</td>\n",
              "      <td>-87.639810</td>\n",
              "      <td>Entire home/apt</td>\n",
              "      <td>157</td>\n",
              "      <td>4</td>\n",
              "      <td>56</td>\n",
              "      <td>2022-08-23</td>\n",
              "      <td>0.55</td>\n",
              "      <td>9</td>\n",
              "      <td>137</td>\n",
              "      <td>23</td>\n",
              "      <td>2209984</td>\n",
              "    </tr>\n",
              "    <tr>\n",
              "      <th>3</th>\n",
              "      <td>12140</td>\n",
              "      <td>Lincoln Park Guest House</td>\n",
              "      <td>46734</td>\n",
              "      <td>Sharon And Robert</td>\n",
              "      <td>NaN</td>\n",
              "      <td>Lincoln Park</td>\n",
              "      <td>41.923570</td>\n",
              "      <td>-87.649470</td>\n",
              "      <td>Private room</td>\n",
              "      <td>329</td>\n",
              "      <td>2</td>\n",
              "      <td>13</td>\n",
              "      <td>2022-09-12</td>\n",
              "      <td>0.15</td>\n",
              "      <td>1</td>\n",
              "      <td>165</td>\n",
              "      <td>6</td>\n",
              "      <td>R20000055258</td>\n",
              "    </tr>\n",
              "    <tr>\n",
              "      <th>4</th>\n",
              "      <td>24833</td>\n",
              "      <td>Prime LincolnPark 1 Block Fullerton Express L ...</td>\n",
              "      <td>101521</td>\n",
              "      <td>Red</td>\n",
              "      <td>NaN</td>\n",
              "      <td>Lincoln Park</td>\n",
              "      <td>41.925961</td>\n",
              "      <td>-87.656364</td>\n",
              "      <td>Entire home/apt</td>\n",
              "      <td>86</td>\n",
              "      <td>32</td>\n",
              "      <td>40</td>\n",
              "      <td>2022-04-23</td>\n",
              "      <td>0.27</td>\n",
              "      <td>3</td>\n",
              "      <td>306</td>\n",
              "      <td>2</td>\n",
              "      <td>City registration pending</td>\n",
              "    </tr>\n",
              "  </tbody>\n",
              "</table>\n",
              "</div>\n",
              "      <button class=\"colab-df-convert\" onclick=\"convertToInteractive('df-7fb364de-da26-4f37-a231-4c2df598ba4c')\"\n",
              "              title=\"Convert this dataframe to an interactive table.\"\n",
              "              style=\"display:none;\">\n",
              "        \n",
              "  <svg xmlns=\"http://www.w3.org/2000/svg\" height=\"24px\"viewBox=\"0 0 24 24\"\n",
              "       width=\"24px\">\n",
              "    <path d=\"M0 0h24v24H0V0z\" fill=\"none\"/>\n",
              "    <path d=\"M18.56 5.44l.94 2.06.94-2.06 2.06-.94-2.06-.94-.94-2.06-.94 2.06-2.06.94zm-11 1L8.5 8.5l.94-2.06 2.06-.94-2.06-.94L8.5 2.5l-.94 2.06-2.06.94zm10 10l.94 2.06.94-2.06 2.06-.94-2.06-.94-.94-2.06-.94 2.06-2.06.94z\"/><path d=\"M17.41 7.96l-1.37-1.37c-.4-.4-.92-.59-1.43-.59-.52 0-1.04.2-1.43.59L10.3 9.45l-7.72 7.72c-.78.78-.78 2.05 0 2.83L4 21.41c.39.39.9.59 1.41.59.51 0 1.02-.2 1.41-.59l7.78-7.78 2.81-2.81c.8-.78.8-2.07 0-2.86zM5.41 20L4 18.59l7.72-7.72 1.47 1.35L5.41 20z\"/>\n",
              "  </svg>\n",
              "      </button>\n",
              "      \n",
              "  <style>\n",
              "    .colab-df-container {\n",
              "      display:flex;\n",
              "      flex-wrap:wrap;\n",
              "      gap: 12px;\n",
              "    }\n",
              "\n",
              "    .colab-df-convert {\n",
              "      background-color: #E8F0FE;\n",
              "      border: none;\n",
              "      border-radius: 50%;\n",
              "      cursor: pointer;\n",
              "      display: none;\n",
              "      fill: #1967D2;\n",
              "      height: 32px;\n",
              "      padding: 0 0 0 0;\n",
              "      width: 32px;\n",
              "    }\n",
              "\n",
              "    .colab-df-convert:hover {\n",
              "      background-color: #E2EBFA;\n",
              "      box-shadow: 0px 1px 2px rgba(60, 64, 67, 0.3), 0px 1px 3px 1px rgba(60, 64, 67, 0.15);\n",
              "      fill: #174EA6;\n",
              "    }\n",
              "\n",
              "    [theme=dark] .colab-df-convert {\n",
              "      background-color: #3B4455;\n",
              "      fill: #D2E3FC;\n",
              "    }\n",
              "\n",
              "    [theme=dark] .colab-df-convert:hover {\n",
              "      background-color: #434B5C;\n",
              "      box-shadow: 0px 1px 3px 1px rgba(0, 0, 0, 0.15);\n",
              "      filter: drop-shadow(0px 1px 2px rgba(0, 0, 0, 0.3));\n",
              "      fill: #FFFFFF;\n",
              "    }\n",
              "  </style>\n",
              "\n",
              "      <script>\n",
              "        const buttonEl =\n",
              "          document.querySelector('#df-7fb364de-da26-4f37-a231-4c2df598ba4c button.colab-df-convert');\n",
              "        buttonEl.style.display =\n",
              "          google.colab.kernel.accessAllowed ? 'block' : 'none';\n",
              "\n",
              "        async function convertToInteractive(key) {\n",
              "          const element = document.querySelector('#df-7fb364de-da26-4f37-a231-4c2df598ba4c');\n",
              "          const dataTable =\n",
              "            await google.colab.kernel.invokeFunction('convertToInteractive',\n",
              "                                                     [key], {});\n",
              "          if (!dataTable) return;\n",
              "\n",
              "          const docLinkHtml = 'Like what you see? Visit the ' +\n",
              "            '<a target=\"_blank\" href=https://colab.research.google.com/notebooks/data_table.ipynb>data table notebook</a>'\n",
              "            + ' to learn more about interactive tables.';\n",
              "          element.innerHTML = '';\n",
              "          dataTable['output_type'] = 'display_data';\n",
              "          await google.colab.output.renderOutput(dataTable, element);\n",
              "          const docLink = document.createElement('div');\n",
              "          docLink.innerHTML = docLinkHtml;\n",
              "          element.appendChild(docLink);\n",
              "        }\n",
              "      </script>\n",
              "    </div>\n",
              "  </div>\n",
              "  "
            ]
          },
          "metadata": {},
          "execution_count": 3
        }
      ]
    },
    {
      "cell_type": "markdown",
      "source": [
        "### **Q1. Quantos atributos (variáveis) e quantas entradas o nosso conjunto de dados possui? Quais os tipos das variáveis?**"
      ],
      "metadata": {
        "id": "M1dnzDxykBOt"
      }
    },
    {
      "cell_type": "code",
      "source": [
        "# identificar o volume de dados do DataFrame\n",
        "df.shape\n",
        "\n"
      ],
      "metadata": {
        "colab": {
          "base_uri": "https://localhost:8080/"
        },
        "id": "FKaRI6U0kFV1",
        "outputId": "b5f10a18-5757-4575-870b-e55ad5210d4f"
      },
      "execution_count": 4,
      "outputs": [
        {
          "output_type": "execute_result",
          "data": {
            "text/plain": [
              "(7414, 18)"
            ]
          },
          "metadata": {},
          "execution_count": 4
        }
      ]
    },
    {
      "cell_type": "code",
      "source": [
        "# quais os tipos das variáveis\n",
        "df.dtypes"
      ],
      "metadata": {
        "colab": {
          "base_uri": "https://localhost:8080/"
        },
        "id": "T6khhIv2skTq",
        "outputId": "3adf6e21-382b-491a-9956-ebe3b5da0375"
      },
      "execution_count": 5,
      "outputs": [
        {
          "output_type": "execute_result",
          "data": {
            "text/plain": [
              "id                                  int64\n",
              "name                               object\n",
              "host_id                             int64\n",
              "host_name                          object\n",
              "neighbourhood_group               float64\n",
              "neighbourhood                      object\n",
              "latitude                          float64\n",
              "longitude                         float64\n",
              "room_type                          object\n",
              "price                               int64\n",
              "minimum_nights                      int64\n",
              "number_of_reviews                   int64\n",
              "last_review                        object\n",
              "reviews_per_month                 float64\n",
              "calculated_host_listings_count      int64\n",
              "availability_365                    int64\n",
              "number_of_reviews_ltm               int64\n",
              "license                            object\n",
              "dtype: object"
            ]
          },
          "metadata": {},
          "execution_count": 5
        }
      ]
    },
    {
      "cell_type": "code",
      "source": [
        "# verificar as 5 primeiras entradas do dataset\n",
        "df.head()"
      ],
      "metadata": {
        "colab": {
          "base_uri": "https://localhost:8080/",
          "height": 496
        },
        "id": "Qo1itMy6kgsV",
        "outputId": "160d69fa-6c15-43df-8b99-0f4cc46bedea"
      },
      "execution_count": 6,
      "outputs": [
        {
          "output_type": "execute_result",
          "data": {
            "text/plain": [
              "      id                                               name  host_id  \\\n",
              "0   2384                       Hyde Park - Walk to UChicago     2613   \n",
              "1   7126                Tiny Studio Apartment 94 Walk Score    17928   \n",
              "2  10945                              The Biddle House (#1)    33004   \n",
              "3  12140                           Lincoln Park Guest House    46734   \n",
              "4  24833  Prime LincolnPark 1 Block Fullerton Express L ...   101521   \n",
              "\n",
              "           host_name  neighbourhood_group neighbourhood   latitude  longitude  \\\n",
              "0            Rebecca                  NaN     Hyde Park  41.787900 -87.587800   \n",
              "1              Sarah                  NaN     West Town  41.901660 -87.680210   \n",
              "2        At Home Inn                  NaN  Lincoln Park  41.911960 -87.639810   \n",
              "3  Sharon And Robert                  NaN  Lincoln Park  41.923570 -87.649470   \n",
              "4                Red                  NaN  Lincoln Park  41.925961 -87.656364   \n",
              "\n",
              "         room_type  price  minimum_nights  number_of_reviews last_review  \\\n",
              "0     Private room    110               3                207  2022-09-09   \n",
              "1  Entire home/apt     91               2                459  2022-08-28   \n",
              "2  Entire home/apt    157               4                 56  2022-08-23   \n",
              "3     Private room    329               2                 13  2022-09-12   \n",
              "4  Entire home/apt     86              32                 40  2022-04-23   \n",
              "\n",
              "   reviews_per_month  calculated_host_listings_count  availability_365  \\\n",
              "0               2.21                               1               320   \n",
              "1               2.86                               1               320   \n",
              "2               0.55                               9               137   \n",
              "3               0.15                               1               165   \n",
              "4               0.27                               3               306   \n",
              "\n",
              "   number_of_reviews_ltm                    license  \n",
              "0                     19               R17000015609  \n",
              "1                     51               R21000075737  \n",
              "2                     23                    2209984  \n",
              "3                      6               R20000055258  \n",
              "4                      2  City registration pending  "
            ],
            "text/html": [
              "\n",
              "  <div id=\"df-97de27d1-5345-4421-a279-6eccd6295edd\">\n",
              "    <div class=\"colab-df-container\">\n",
              "      <div>\n",
              "<style scoped>\n",
              "    .dataframe tbody tr th:only-of-type {\n",
              "        vertical-align: middle;\n",
              "    }\n",
              "\n",
              "    .dataframe tbody tr th {\n",
              "        vertical-align: top;\n",
              "    }\n",
              "\n",
              "    .dataframe thead th {\n",
              "        text-align: right;\n",
              "    }\n",
              "</style>\n",
              "<table border=\"1\" class=\"dataframe\">\n",
              "  <thead>\n",
              "    <tr style=\"text-align: right;\">\n",
              "      <th></th>\n",
              "      <th>id</th>\n",
              "      <th>name</th>\n",
              "      <th>host_id</th>\n",
              "      <th>host_name</th>\n",
              "      <th>neighbourhood_group</th>\n",
              "      <th>neighbourhood</th>\n",
              "      <th>latitude</th>\n",
              "      <th>longitude</th>\n",
              "      <th>room_type</th>\n",
              "      <th>price</th>\n",
              "      <th>minimum_nights</th>\n",
              "      <th>number_of_reviews</th>\n",
              "      <th>last_review</th>\n",
              "      <th>reviews_per_month</th>\n",
              "      <th>calculated_host_listings_count</th>\n",
              "      <th>availability_365</th>\n",
              "      <th>number_of_reviews_ltm</th>\n",
              "      <th>license</th>\n",
              "    </tr>\n",
              "  </thead>\n",
              "  <tbody>\n",
              "    <tr>\n",
              "      <th>0</th>\n",
              "      <td>2384</td>\n",
              "      <td>Hyde Park - Walk to UChicago</td>\n",
              "      <td>2613</td>\n",
              "      <td>Rebecca</td>\n",
              "      <td>NaN</td>\n",
              "      <td>Hyde Park</td>\n",
              "      <td>41.787900</td>\n",
              "      <td>-87.587800</td>\n",
              "      <td>Private room</td>\n",
              "      <td>110</td>\n",
              "      <td>3</td>\n",
              "      <td>207</td>\n",
              "      <td>2022-09-09</td>\n",
              "      <td>2.21</td>\n",
              "      <td>1</td>\n",
              "      <td>320</td>\n",
              "      <td>19</td>\n",
              "      <td>R17000015609</td>\n",
              "    </tr>\n",
              "    <tr>\n",
              "      <th>1</th>\n",
              "      <td>7126</td>\n",
              "      <td>Tiny Studio Apartment 94 Walk Score</td>\n",
              "      <td>17928</td>\n",
              "      <td>Sarah</td>\n",
              "      <td>NaN</td>\n",
              "      <td>West Town</td>\n",
              "      <td>41.901660</td>\n",
              "      <td>-87.680210</td>\n",
              "      <td>Entire home/apt</td>\n",
              "      <td>91</td>\n",
              "      <td>2</td>\n",
              "      <td>459</td>\n",
              "      <td>2022-08-28</td>\n",
              "      <td>2.86</td>\n",
              "      <td>1</td>\n",
              "      <td>320</td>\n",
              "      <td>51</td>\n",
              "      <td>R21000075737</td>\n",
              "    </tr>\n",
              "    <tr>\n",
              "      <th>2</th>\n",
              "      <td>10945</td>\n",
              "      <td>The Biddle House (#1)</td>\n",
              "      <td>33004</td>\n",
              "      <td>At Home Inn</td>\n",
              "      <td>NaN</td>\n",
              "      <td>Lincoln Park</td>\n",
              "      <td>41.911960</td>\n",
              "      <td>-87.639810</td>\n",
              "      <td>Entire home/apt</td>\n",
              "      <td>157</td>\n",
              "      <td>4</td>\n",
              "      <td>56</td>\n",
              "      <td>2022-08-23</td>\n",
              "      <td>0.55</td>\n",
              "      <td>9</td>\n",
              "      <td>137</td>\n",
              "      <td>23</td>\n",
              "      <td>2209984</td>\n",
              "    </tr>\n",
              "    <tr>\n",
              "      <th>3</th>\n",
              "      <td>12140</td>\n",
              "      <td>Lincoln Park Guest House</td>\n",
              "      <td>46734</td>\n",
              "      <td>Sharon And Robert</td>\n",
              "      <td>NaN</td>\n",
              "      <td>Lincoln Park</td>\n",
              "      <td>41.923570</td>\n",
              "      <td>-87.649470</td>\n",
              "      <td>Private room</td>\n",
              "      <td>329</td>\n",
              "      <td>2</td>\n",
              "      <td>13</td>\n",
              "      <td>2022-09-12</td>\n",
              "      <td>0.15</td>\n",
              "      <td>1</td>\n",
              "      <td>165</td>\n",
              "      <td>6</td>\n",
              "      <td>R20000055258</td>\n",
              "    </tr>\n",
              "    <tr>\n",
              "      <th>4</th>\n",
              "      <td>24833</td>\n",
              "      <td>Prime LincolnPark 1 Block Fullerton Express L ...</td>\n",
              "      <td>101521</td>\n",
              "      <td>Red</td>\n",
              "      <td>NaN</td>\n",
              "      <td>Lincoln Park</td>\n",
              "      <td>41.925961</td>\n",
              "      <td>-87.656364</td>\n",
              "      <td>Entire home/apt</td>\n",
              "      <td>86</td>\n",
              "      <td>32</td>\n",
              "      <td>40</td>\n",
              "      <td>2022-04-23</td>\n",
              "      <td>0.27</td>\n",
              "      <td>3</td>\n",
              "      <td>306</td>\n",
              "      <td>2</td>\n",
              "      <td>City registration pending</td>\n",
              "    </tr>\n",
              "  </tbody>\n",
              "</table>\n",
              "</div>\n",
              "      <button class=\"colab-df-convert\" onclick=\"convertToInteractive('df-97de27d1-5345-4421-a279-6eccd6295edd')\"\n",
              "              title=\"Convert this dataframe to an interactive table.\"\n",
              "              style=\"display:none;\">\n",
              "        \n",
              "  <svg xmlns=\"http://www.w3.org/2000/svg\" height=\"24px\"viewBox=\"0 0 24 24\"\n",
              "       width=\"24px\">\n",
              "    <path d=\"M0 0h24v24H0V0z\" fill=\"none\"/>\n",
              "    <path d=\"M18.56 5.44l.94 2.06.94-2.06 2.06-.94-2.06-.94-.94-2.06-.94 2.06-2.06.94zm-11 1L8.5 8.5l.94-2.06 2.06-.94-2.06-.94L8.5 2.5l-.94 2.06-2.06.94zm10 10l.94 2.06.94-2.06 2.06-.94-2.06-.94-.94-2.06-.94 2.06-2.06.94z\"/><path d=\"M17.41 7.96l-1.37-1.37c-.4-.4-.92-.59-1.43-.59-.52 0-1.04.2-1.43.59L10.3 9.45l-7.72 7.72c-.78.78-.78 2.05 0 2.83L4 21.41c.39.39.9.59 1.41.59.51 0 1.02-.2 1.41-.59l7.78-7.78 2.81-2.81c.8-.78.8-2.07 0-2.86zM5.41 20L4 18.59l7.72-7.72 1.47 1.35L5.41 20z\"/>\n",
              "  </svg>\n",
              "      </button>\n",
              "      \n",
              "  <style>\n",
              "    .colab-df-container {\n",
              "      display:flex;\n",
              "      flex-wrap:wrap;\n",
              "      gap: 12px;\n",
              "    }\n",
              "\n",
              "    .colab-df-convert {\n",
              "      background-color: #E8F0FE;\n",
              "      border: none;\n",
              "      border-radius: 50%;\n",
              "      cursor: pointer;\n",
              "      display: none;\n",
              "      fill: #1967D2;\n",
              "      height: 32px;\n",
              "      padding: 0 0 0 0;\n",
              "      width: 32px;\n",
              "    }\n",
              "\n",
              "    .colab-df-convert:hover {\n",
              "      background-color: #E2EBFA;\n",
              "      box-shadow: 0px 1px 2px rgba(60, 64, 67, 0.3), 0px 1px 3px 1px rgba(60, 64, 67, 0.15);\n",
              "      fill: #174EA6;\n",
              "    }\n",
              "\n",
              "    [theme=dark] .colab-df-convert {\n",
              "      background-color: #3B4455;\n",
              "      fill: #D2E3FC;\n",
              "    }\n",
              "\n",
              "    [theme=dark] .colab-df-convert:hover {\n",
              "      background-color: #434B5C;\n",
              "      box-shadow: 0px 1px 3px 1px rgba(0, 0, 0, 0.15);\n",
              "      filter: drop-shadow(0px 1px 2px rgba(0, 0, 0, 0.3));\n",
              "      fill: #FFFFFF;\n",
              "    }\n",
              "  </style>\n",
              "\n",
              "      <script>\n",
              "        const buttonEl =\n",
              "          document.querySelector('#df-97de27d1-5345-4421-a279-6eccd6295edd button.colab-df-convert');\n",
              "        buttonEl.style.display =\n",
              "          google.colab.kernel.accessAllowed ? 'block' : 'none';\n",
              "\n",
              "        async function convertToInteractive(key) {\n",
              "          const element = document.querySelector('#df-97de27d1-5345-4421-a279-6eccd6295edd');\n",
              "          const dataTable =\n",
              "            await google.colab.kernel.invokeFunction('convertToInteractive',\n",
              "                                                     [key], {});\n",
              "          if (!dataTable) return;\n",
              "\n",
              "          const docLinkHtml = 'Like what you see? Visit the ' +\n",
              "            '<a target=\"_blank\" href=https://colab.research.google.com/notebooks/data_table.ipynb>data table notebook</a>'\n",
              "            + ' to learn more about interactive tables.';\n",
              "          element.innerHTML = '';\n",
              "          dataTable['output_type'] = 'display_data';\n",
              "          await google.colab.output.renderOutput(dataTable, element);\n",
              "          const docLink = document.createElement('div');\n",
              "          docLink.innerHTML = docLinkHtml;\n",
              "          element.appendChild(docLink);\n",
              "        }\n",
              "      </script>\n",
              "    </div>\n",
              "  </div>\n",
              "  "
            ]
          },
          "metadata": {},
          "execution_count": 6
        }
      ]
    },
    {
      "cell_type": "markdown",
      "source": [
        "### **Q2. Qual a porcentagem de valores ausentes no *dataset*?**"
      ],
      "metadata": {
        "id": "bJ-qS39ukrtl"
      }
    },
    {
      "cell_type": "code",
      "source": [
        "# ordenar em ordem decrescente as variáveis por seus valores ausentes\n",
        "(df.isnull().sum()/df.shape[0]).sort_values(ascending = False)"
      ],
      "metadata": {
        "colab": {
          "base_uri": "https://localhost:8080/"
        },
        "id": "dAbe-KK5kuSV",
        "outputId": "761786fb-09c2-4a74-a381-22ffcab55a6c"
      },
      "execution_count": 7,
      "outputs": [
        {
          "output_type": "execute_result",
          "data": {
            "text/plain": [
              "neighbourhood_group               1.000000\n",
              "reviews_per_month                 0.176963\n",
              "last_review                       0.176963\n",
              "license                           0.170758\n",
              "minimum_nights                    0.000000\n",
              "number_of_reviews_ltm             0.000000\n",
              "availability_365                  0.000000\n",
              "calculated_host_listings_count    0.000000\n",
              "number_of_reviews                 0.000000\n",
              "id                                0.000000\n",
              "name                              0.000000\n",
              "room_type                         0.000000\n",
              "longitude                         0.000000\n",
              "latitude                          0.000000\n",
              "neighbourhood                     0.000000\n",
              "host_name                         0.000000\n",
              "host_id                           0.000000\n",
              "price                             0.000000\n",
              "dtype: float64"
            ]
          },
          "metadata": {},
          "execution_count": 7
        }
      ]
    },
    {
      "cell_type": "markdown",
      "source": [
        "### **Q3. Qual o tipo de distribuição das variáveis?** "
      ],
      "metadata": {
        "id": "evg6F2pyo-qr"
      }
    },
    {
      "cell_type": "code",
      "source": [
        "# plotar o histograma das variáveis numéricas\n",
        "df.hist(bins=15, figsize=(15,10));"
      ],
      "metadata": {
        "colab": {
          "base_uri": "https://localhost:8080/",
          "height": 607
        },
        "id": "ybMS-EKKo_5z",
        "outputId": "5b96dd84-17e4-4fb1-ec90-758cbea0429e"
      },
      "execution_count": 8,
      "outputs": [
        {
          "output_type": "display_data",
          "data": {
            "text/plain": [
              "<Figure size 1080x720 with 12 Axes>"
            ],
            "image/png": "[encoded data removed]"
          },
          "metadata": {
            "needs_background": "light"
          }
        }
      ]
    },
    {
      "cell_type": "markdown",
      "source": [
        "### **Q4. Qual a média dos preços de aluguel?**"
      ],
      "metadata": {
        "id": "N04Vatn2tQRi"
      }
    },
    {
      "cell_type": "code",
      "source": [
        "# ver a média da coluna `price``\n",
        "df.price.mean()"
      ],
      "metadata": {
        "colab": {
          "base_uri": "https://localhost:8080/"
        },
        "id": "D7mC3KlYtRjJ",
        "outputId": "4063c456-1096-41fa-8d1b-14b310dfcc23"
      },
      "execution_count": 9,
      "outputs": [
        {
          "output_type": "execute_result",
          "data": {
            "text/plain": [
              "211.69476665767468"
            ]
          },
          "metadata": {},
          "execution_count": 9
        }
      ]
    },
    {
      "cell_type": "code",
      "source": [
        "x=(df.price.sum()/df.shape[0])\n",
        "x"
      ],
      "metadata": {
        "colab": {
          "base_uri": "https://localhost:8080/"
        },
        "id": "8FEl8Bd1tf9C",
        "outputId": "6f52641b-8c1e-4f94-c6e3-d8e989ece407"
      },
      "execution_count": null,
      "outputs": [
        {
          "output_type": "execute_result",
          "data": {
            "text/plain": [
              "211.69476665767468"
            ]
          },
          "metadata": {},
          "execution_count": 10
        }
      ]
    },
    {
      "cell_type": "markdown",
      "source": [
        "### **Q5. Há outliers presentes?**"
      ],
      "metadata": {
        "id": "hh2UOaQsvFcJ"
      }
    },
    {
      "cell_type": "code",
      "source": [
        "df[['price','minimum_nights','number_of_reviews','reviews_per_month','calculated_host_listings_count','availability_365']].describe()"
      ],
      "metadata": {
        "colab": {
          "base_uri": "https://localhost:8080/",
          "height": 300
        },
        "id": "cUMO0Ej-va-C",
        "outputId": "7299891e-2857-4a54-e318-4d965909a979"
      },
      "execution_count": 10,
      "outputs": [
        {
          "output_type": "execute_result",
          "data": {
            "text/plain": [
              "              price  minimum_nights  number_of_reviews  reviews_per_month  \\\n",
              "count   7414.000000     7414.000000        7414.000000        6102.000000   \n",
              "mean     211.694767       14.580388          46.316968           1.986147   \n",
              "std      288.524481       41.305189          82.506890           1.936698   \n",
              "min        0.000000        1.000000           0.000000           0.010000   \n",
              "25%       93.000000        2.000000           2.000000           0.560000   \n",
              "50%      150.000000        2.000000          14.000000           1.600000   \n",
              "75%      237.000000       32.000000          55.000000           2.970000   \n",
              "max    10000.000000     1125.000000        2600.000000          55.710000   \n",
              "\n",
              "       calculated_host_listings_count  availability_365  \n",
              "count                     7414.000000       7414.000000  \n",
              "mean                        44.548692        200.869706  \n",
              "std                        133.163519        132.220453  \n",
              "min                          1.000000          0.000000  \n",
              "25%                          1.000000         74.000000  \n",
              "50%                          3.000000        222.000000  \n",
              "75%                         12.000000        333.000000  \n",
              "max                        525.000000        365.000000  "
            ],
            "text/html": [
              "\n",
              "  <div id=\"df-ea9be37c-25ef-4157-bdaf-276c18c1c00e\">\n",
              "    <div class=\"colab-df-container\">\n",
              "      <div>\n",
              "<style scoped>\n",
              "    .dataframe tbody tr th:only-of-type {\n",
              "        vertical-align: middle;\n",
              "    }\n",
              "\n",
              "    .dataframe tbody tr th {\n",
              "        vertical-align: top;\n",
              "    }\n",
              "\n",
              "    .dataframe thead th {\n",
              "        text-align: right;\n",
              "    }\n",
              "</style>\n",
              "<table border=\"1\" class=\"dataframe\">\n",
              "  <thead>\n",
              "    <tr style=\"text-align: right;\">\n",
              "      <th></th>\n",
              "      <th>price</th>\n",
              "      <th>minimum_nights</th>\n",
              "      <th>number_of_reviews</th>\n",
              "      <th>reviews_per_month</th>\n",
              "      <th>calculated_host_listings_count</th>\n",
              "      <th>availability_365</th>\n",
              "    </tr>\n",
              "  </thead>\n",
              "  <tbody>\n",
              "    <tr>\n",
              "      <th>count</th>\n",
              "      <td>7414.000000</td>\n",
              "      <td>7414.000000</td>\n",
              "      <td>7414.000000</td>\n",
              "      <td>6102.000000</td>\n",
              "      <td>7414.000000</td>\n",
              "      <td>7414.000000</td>\n",
              "    </tr>\n",
              "    <tr>\n",
              "      <th>mean</th>\n",
              "      <td>211.694767</td>\n",
              "      <td>14.580388</td>\n",
              "      <td>46.316968</td>\n",
              "      <td>1.986147</td>\n",
              "      <td>44.548692</td>\n",
              "      <td>200.869706</td>\n",
              "    </tr>\n",
              "    <tr>\n",
              "      <th>std</th>\n",
              "      <td>288.524481</td>\n",
              "      <td>41.305189</td>\n",
              "      <td>82.506890</td>\n",
              "      <td>1.936698</td>\n",
              "      <td>133.163519</td>\n",
              "      <td>132.220453</td>\n",
              "    </tr>\n",
              "    <tr>\n",
              "      <th>min</th>\n",
              "      <td>0.000000</td>\n",
              "      <td>1.000000</td>\n",
              "      <td>0.000000</td>\n",
              "      <td>0.010000</td>\n",
              "      <td>1.000000</td>\n",
              "      <td>0.000000</td>\n",
              "    </tr>\n",
              "    <tr>\n",
              "      <th>25%</th>\n",
              "      <td>93.000000</td>\n",
              "      <td>2.000000</td>\n",
              "      <td>2.000000</td>\n",
              "      <td>0.560000</td>\n",
              "      <td>1.000000</td>\n",
              "      <td>74.000000</td>\n",
              "    </tr>\n",
              "    <tr>\n",
              "      <th>50%</th>\n",
              "      <td>150.000000</td>\n",
              "      <td>2.000000</td>\n",
              "      <td>14.000000</td>\n",
              "      <td>1.600000</td>\n",
              "      <td>3.000000</td>\n",
              "      <td>222.000000</td>\n",
              "    </tr>\n",
              "    <tr>\n",
              "      <th>75%</th>\n",
              "      <td>237.000000</td>\n",
              "      <td>32.000000</td>\n",
              "      <td>55.000000</td>\n",
              "      <td>2.970000</td>\n",
              "      <td>12.000000</td>\n",
              "      <td>333.000000</td>\n",
              "    </tr>\n",
              "    <tr>\n",
              "      <th>max</th>\n",
              "      <td>10000.000000</td>\n",
              "      <td>1125.000000</td>\n",
              "      <td>2600.000000</td>\n",
              "      <td>55.710000</td>\n",
              "      <td>525.000000</td>\n",
              "      <td>365.000000</td>\n",
              "    </tr>\n",
              "  </tbody>\n",
              "</table>\n",
              "</div>\n",
              "      <button class=\"colab-df-convert\" onclick=\"convertToInteractive('df-ea9be37c-25ef-4157-bdaf-276c18c1c00e')\"\n",
              "              title=\"Convert this dataframe to an interactive table.\"\n",
              "              style=\"display:none;\">\n",
              "        \n",
              "  <svg xmlns=\"http://www.w3.org/2000/svg\" height=\"24px\"viewBox=\"0 0 24 24\"\n",
              "       width=\"24px\">\n",
              "    <path d=\"M0 0h24v24H0V0z\" fill=\"none\"/>\n",
              "    <path d=\"M18.56 5.44l.94 2.06.94-2.06 2.06-.94-2.06-.94-.94-2.06-.94 2.06-2.06.94zm-11 1L8.5 8.5l.94-2.06 2.06-.94-2.06-.94L8.5 2.5l-.94 2.06-2.06.94zm10 10l.94 2.06.94-2.06 2.06-.94-2.06-.94-.94-2.06-.94 2.06-2.06.94z\"/><path d=\"M17.41 7.96l-1.37-1.37c-.4-.4-.92-.59-1.43-.59-.52 0-1.04.2-1.43.59L10.3 9.45l-7.72 7.72c-.78.78-.78 2.05 0 2.83L4 21.41c.39.39.9.59 1.41.59.51 0 1.02-.2 1.41-.59l7.78-7.78 2.81-2.81c.8-.78.8-2.07 0-2.86zM5.41 20L4 18.59l7.72-7.72 1.47 1.35L5.41 20z\"/>\n",
              "  </svg>\n",
              "      </button>\n",
              "      \n",
              "  <style>\n",
              "    .colab-df-container {\n",
              "      display:flex;\n",
              "      flex-wrap:wrap;\n",
              "      gap: 12px;\n",
              "    }\n",
              "\n",
              "    .colab-df-convert {\n",
              "      background-color: #E8F0FE;\n",
              "      border: none;\n",
              "      border-radius: 50%;\n",
              "      cursor: pointer;\n",
              "      display: none;\n",
              "      fill: #1967D2;\n",
              "      height: 32px;\n",
              "      padding: 0 0 0 0;\n",
              "      width: 32px;\n",
              "    }\n",
              "\n",
              "    .colab-df-convert:hover {\n",
              "      background-color: #E2EBFA;\n",
              "      box-shadow: 0px 1px 2px rgba(60, 64, 67, 0.3), 0px 1px 3px 1px rgba(60, 64, 67, 0.15);\n",
              "      fill: #174EA6;\n",
              "    }\n",
              "\n",
              "    [theme=dark] .colab-df-convert {\n",
              "      background-color: #3B4455;\n",
              "      fill: #D2E3FC;\n",
              "    }\n",
              "\n",
              "    [theme=dark] .colab-df-convert:hover {\n",
              "      background-color: #434B5C;\n",
              "      box-shadow: 0px 1px 3px 1px rgba(0, 0, 0, 0.15);\n",
              "      filter: drop-shadow(0px 1px 2px rgba(0, 0, 0, 0.3));\n",
              "      fill: #FFFFFF;\n",
              "    }\n",
              "  </style>\n",
              "\n",
              "      <script>\n",
              "        const buttonEl =\n",
              "          document.querySelector('#df-ea9be37c-25ef-4157-bdaf-276c18c1c00e button.colab-df-convert');\n",
              "        buttonEl.style.display =\n",
              "          google.colab.kernel.accessAllowed ? 'block' : 'none';\n",
              "\n",
              "        async function convertToInteractive(key) {\n",
              "          const element = document.querySelector('#df-ea9be37c-25ef-4157-bdaf-276c18c1c00e');\n",
              "          const dataTable =\n",
              "            await google.colab.kernel.invokeFunction('convertToInteractive',\n",
              "                                                     [key], {});\n",
              "          if (!dataTable) return;\n",
              "\n",
              "          const docLinkHtml = 'Like what you see? Visit the ' +\n",
              "            '<a target=\"_blank\" href=https://colab.research.google.com/notebooks/data_table.ipynb>data table notebook</a>'\n",
              "            + ' to learn more about interactive tables.';\n",
              "          element.innerHTML = '';\n",
              "          dataTable['output_type'] = 'display_data';\n",
              "          await google.colab.output.renderOutput(dataTable, element);\n",
              "          const docLink = document.createElement('div');\n",
              "          docLink.innerHTML = docLinkHtml;\n",
              "          element.appendChild(docLink);\n",
              "        }\n",
              "      </script>\n",
              "    </div>\n",
              "  </div>\n",
              "  "
            ]
          },
          "metadata": {},
          "execution_count": 10
        }
      ]
    },
    {
      "cell_type": "markdown",
      "source": [
        "* A variável `price` possui 75% do valor abaixo de 237, porém seu valor máximo é 10000.\n",
        "* A quantidade mínima de noites (`minimum_nights`) está acima de 365 dias no ano (1125).\n",
        "\n",
        "### Boxplot para minimum_nights"
      ],
      "metadata": {
        "id": "9PHuEk9jxCkq"
      }
    },
    {
      "cell_type": "code",
      "source": [
        "df.minimum_nights.plot(kind='box',vert=False, figsize=(15,3))\n",
        "plt.show()\n",
        "\n",
        "# ver quantidade de valores acima de 30 dias para minimum_nights\n",
        "print(\"minimum_nights: valores acima de 30:\")\n",
        "print(\"{} entradas\".format(len(df[df.minimum_nights>30])))\n",
        "print(\"{:.4f}%\".format((len(df[df.minimum_nights>30])/df.shape[0])*100))\n",
        "print(\"Pelos resultados acima, mais de 30% das propriedades disponíveis pela Airbnb são para longa estadia\")"
      ],
      "metadata": {
        "colab": {
          "base_uri": "https://localhost:8080/",
          "height": 282
        },
        "id": "Jq-OFvPZyw2J",
        "outputId": "a4c6d3f7-c0c2-49c6-bb29-6195ff88e8d9"
      },
      "execution_count": 12,
      "outputs": [
        {
          "output_type": "display_data",
          "data": {
            "text/plain": [
              "<Figure size 1080x216 with 1 Axes>"
            ],
            "image/png": "[encoded data removed]"
          },
          "metadata": {
            "needs_background": "light"
          }
        },
        {
          "output_type": "stream",
          "name": "stdout",
          "text": [
            "minimum_nights: valores acima de 30:\n",
            "2329 entradas\n",
            "31.4135%\n",
            "Pelos resultados acima, mais de 30% das propriedades disponíveis pela Airbnb são para longa estadia\n"
          ]
        }
      ]
    },
    {
      "cell_type": "markdown",
      "source": [
        "### *Boxplot para price*"
      ],
      "metadata": {
        "id": "ojiaWiIk6aEv"
      }
    },
    {
      "cell_type": "code",
      "source": [
        "df.price.plot(kind='box',vert=False, figsize=(15,3))\n",
        "plt.show()\n",
        "\n",
        "# ver quantidade de valores acima de US$ 237 para price\n",
        "print(\"price: valores acima de US$ 237:\")\n",
        "print(\"{} entradas\".format(len(df[df.price>237])))\n",
        "print(\"{:.4f}%\".format((len(df[df.price>237])/df.shape[0])*100))"
      ],
      "metadata": {
        "colab": {
          "base_uri": "https://localhost:8080/",
          "height": 264
        },
        "id": "XsB5Ev-v6gMe",
        "outputId": "8b40719a-513c-4804-c55f-3440835b6b1e"
      },
      "execution_count": 13,
      "outputs": [
        {
          "output_type": "display_data",
          "data": {
            "text/plain": [
              "<Figure size 1080x216 with 1 Axes>"
            ],
            "image/png": "[encoded data removed]"
          },
          "metadata": {
            "needs_background": "light"
          }
        },
        {
          "output_type": "stream",
          "name": "stdout",
          "text": [
            "price: valores acima de US$ 237:\n",
            "1848 entradas\n",
            "24.9258%\n"
          ]
        }
      ]
    },
    {
      "cell_type": "markdown",
      "source": [
        "### *Histograma sem os outliers*"
      ],
      "metadata": {
        "id": "8LM1GtCb9MvS"
      }
    },
    {
      "cell_type": "code",
      "source": [
        "#removendo os outliers e criando um novo DataFrame sem os outliers\n",
        "df_clean = df.copy()\n",
        "df_clean.drop(df_clean[df_clean.price>237].index, axis=0, inplace=True)\n",
        "df_clean.drop(df_clean[df_clean.minimum_nights>30].index, axis=0, inplace=True)\n",
        "\n",
        "#removendo a coluna `neighbourhood_group`, pois está vazia\n",
        "df_clean.drop('neighbourhood_group', axis=1, inplace=True)\n",
        "\n",
        "#plotando o histograma com as novas variáveis numéricas\n",
        "df_clean.hist(bins=15, figsize=(15,10));"
      ],
      "metadata": {
        "colab": {
          "base_uri": "https://localhost:8080/",
          "height": 607
        },
        "id": "ln0D36QK9TNG",
        "outputId": "95606575-a019-4a8b-ae7f-c045fb0015c0"
      },
      "execution_count": 14,
      "outputs": [
        {
          "output_type": "display_data",
          "data": {
            "text/plain": [
              "<Figure size 1080x720 with 12 Axes>"
            ],
            "image/png": "[encoded data removed]"
          },
          "metadata": {
            "needs_background": "light"
          }
        }
      ]
    },
    {
      "cell_type": "markdown",
      "source": [
        "### **Q6. Qual a correlação existente entre as variáveis**"
      ],
      "metadata": {
        "id": "e8JoW3XquOPB"
      }
    },
    {
      "cell_type": "code",
      "source": [
        "# criar uma matriz de correlação\n",
        "mat_corr = df_clean[['price', 'minimum_nights','number_of_reviews','reviews_per_month',\n",
        "                     'calculated_host_listings_count', 'availability_365']].corr()\n",
        "\n",
        "display(mat_corr)\n",
        "\n",
        "# mostrar a matriz de correlação"
      ],
      "metadata": {
        "id": "9hU2GIAMuPZ9",
        "colab": {
          "base_uri": "https://localhost:8080/",
          "height": 237
        },
        "outputId": "9b7b97c4-3d7f-4e72-8f1b-bfdae7073218"
      },
      "execution_count": 15,
      "outputs": [
        {
          "output_type": "display_data",
          "data": {
            "text/plain": [
              "                                   price  minimum_nights  number_of_reviews  \\\n",
              "price                           1.000000       -0.080005          -0.015114   \n",
              "minimum_nights                 -0.080005        1.000000          -0.094770   \n",
              "number_of_reviews              -0.015114       -0.094770           1.000000   \n",
              "reviews_per_month               0.097587       -0.238108           0.507268   \n",
              "calculated_host_listings_count -0.048521       -0.034295          -0.099523   \n",
              "availability_365                0.033754       -0.001315          -0.026916   \n",
              "\n",
              "                                reviews_per_month  \\\n",
              "price                                    0.097587   \n",
              "minimum_nights                          -0.238108   \n",
              "number_of_reviews                        0.507268   \n",
              "reviews_per_month                        1.000000   \n",
              "calculated_host_listings_count          -0.009854   \n",
              "availability_365                         0.076166   \n",
              "\n",
              "                                calculated_host_listings_count  \\\n",
              "price                                                -0.048521   \n",
              "minimum_nights                                       -0.034295   \n",
              "number_of_reviews                                    -0.099523   \n",
              "reviews_per_month                                    -0.009854   \n",
              "calculated_host_listings_count                        1.000000   \n",
              "availability_365                                      0.188934   \n",
              "\n",
              "                                availability_365  \n",
              "price                                   0.033754  \n",
              "minimum_nights                         -0.001315  \n",
              "number_of_reviews                      -0.026916  \n",
              "reviews_per_month                       0.076166  \n",
              "calculated_host_listings_count          0.188934  \n",
              "availability_365                        1.000000  "
            ],
            "text/html": [
              "\n",
              "  <div id=\"df-073555ed-2d11-44d1-bd59-228a1c331b1b\">\n",
              "    <div class=\"colab-df-container\">\n",
              "      <div>\n",
              "<style scoped>\n",
              "    .dataframe tbody tr th:only-of-type {\n",
              "        vertical-align: middle;\n",
              "    }\n",
              "\n",
              "    .dataframe tbody tr th {\n",
              "        vertical-align: top;\n",
              "    }\n",
              "\n",
              "    .dataframe thead th {\n",
              "        text-align: right;\n",
              "    }\n",
              "</style>\n",
              "<table border=\"1\" class=\"dataframe\">\n",
              "  <thead>\n",
              "    <tr style=\"text-align: right;\">\n",
              "      <th></th>\n",
              "      <th>price</th>\n",
              "      <th>minimum_nights</th>\n",
              "      <th>number_of_reviews</th>\n",
              "      <th>reviews_per_month</th>\n",
              "      <th>calculated_host_listings_count</th>\n",
              "      <th>availability_365</th>\n",
              "    </tr>\n",
              "  </thead>\n",
              "  <tbody>\n",
              "    <tr>\n",
              "      <th>price</th>\n",
              "      <td>1.000000</td>\n",
              "      <td>-0.080005</td>\n",
              "      <td>-0.015114</td>\n",
              "      <td>0.097587</td>\n",
              "      <td>-0.048521</td>\n",
              "      <td>0.033754</td>\n",
              "    </tr>\n",
              "    <tr>\n",
              "      <th>minimum_nights</th>\n",
              "      <td>-0.080005</td>\n",
              "      <td>1.000000</td>\n",
              "      <td>-0.094770</td>\n",
              "      <td>-0.238108</td>\n",
              "      <td>-0.034295</td>\n",
              "      <td>-0.001315</td>\n",
              "    </tr>\n",
              "    <tr>\n",
              "      <th>number_of_reviews</th>\n",
              "      <td>-0.015114</td>\n",
              "      <td>-0.094770</td>\n",
              "      <td>1.000000</td>\n",
              "      <td>0.507268</td>\n",
              "      <td>-0.099523</td>\n",
              "      <td>-0.026916</td>\n",
              "    </tr>\n",
              "    <tr>\n",
              "      <th>reviews_per_month</th>\n",
              "      <td>0.097587</td>\n",
              "      <td>-0.238108</td>\n",
              "      <td>0.507268</td>\n",
              "      <td>1.000000</td>\n",
              "      <td>-0.009854</td>\n",
              "      <td>0.076166</td>\n",
              "    </tr>\n",
              "    <tr>\n",
              "      <th>calculated_host_listings_count</th>\n",
              "      <td>-0.048521</td>\n",
              "      <td>-0.034295</td>\n",
              "      <td>-0.099523</td>\n",
              "      <td>-0.009854</td>\n",
              "      <td>1.000000</td>\n",
              "      <td>0.188934</td>\n",
              "    </tr>\n",
              "    <tr>\n",
              "      <th>availability_365</th>\n",
              "      <td>0.033754</td>\n",
              "      <td>-0.001315</td>\n",
              "      <td>-0.026916</td>\n",
              "      <td>0.076166</td>\n",
              "      <td>0.188934</td>\n",
              "      <td>1.000000</td>\n",
              "    </tr>\n",
              "  </tbody>\n",
              "</table>\n",
              "</div>\n",
              "      <button class=\"colab-df-convert\" onclick=\"convertToInteractive('df-073555ed-2d11-44d1-bd59-228a1c331b1b')\"\n",
              "              title=\"Convert this dataframe to an interactive table.\"\n",
              "              style=\"display:none;\">\n",
              "        \n",
              "  <svg xmlns=\"http://www.w3.org/2000/svg\" height=\"24px\"viewBox=\"0 0 24 24\"\n",
              "       width=\"24px\">\n",
              "    <path d=\"M0 0h24v24H0V0z\" fill=\"none\"/>\n",
              "    <path d=\"M18.56 5.44l.94 2.06.94-2.06 2.06-.94-2.06-.94-.94-2.06-.94 2.06-2.06.94zm-11 1L8.5 8.5l.94-2.06 2.06-.94-2.06-.94L8.5 2.5l-.94 2.06-2.06.94zm10 10l.94 2.06.94-2.06 2.06-.94-2.06-.94-.94-2.06-.94 2.06-2.06.94z\"/><path d=\"M17.41 7.96l-1.37-1.37c-.4-.4-.92-.59-1.43-.59-.52 0-1.04.2-1.43.59L10.3 9.45l-7.72 7.72c-.78.78-.78 2.05 0 2.83L4 21.41c.39.39.9.59 1.41.59.51 0 1.02-.2 1.41-.59l7.78-7.78 2.81-2.81c.8-.78.8-2.07 0-2.86zM5.41 20L4 18.59l7.72-7.72 1.47 1.35L5.41 20z\"/>\n",
              "  </svg>\n",
              "      </button>\n",
              "      \n",
              "  <style>\n",
              "    .colab-df-container {\n",
              "      display:flex;\n",
              "      flex-wrap:wrap;\n",
              "      gap: 12px;\n",
              "    }\n",
              "\n",
              "    .colab-df-convert {\n",
              "      background-color: #E8F0FE;\n",
              "      border: none;\n",
              "      border-radius: 50%;\n",
              "      cursor: pointer;\n",
              "      display: none;\n",
              "      fill: #1967D2;\n",
              "      height: 32px;\n",
              "      padding: 0 0 0 0;\n",
              "      width: 32px;\n",
              "    }\n",
              "\n",
              "    .colab-df-convert:hover {\n",
              "      background-color: #E2EBFA;\n",
              "      box-shadow: 0px 1px 2px rgba(60, 64, 67, 0.3), 0px 1px 3px 1px rgba(60, 64, 67, 0.15);\n",
              "      fill: #174EA6;\n",
              "    }\n",
              "\n",
              "    [theme=dark] .colab-df-convert {\n",
              "      background-color: #3B4455;\n",
              "      fill: #D2E3FC;\n",
              "    }\n",
              "\n",
              "    [theme=dark] .colab-df-convert:hover {\n",
              "      background-color: #434B5C;\n",
              "      box-shadow: 0px 1px 3px 1px rgba(0, 0, 0, 0.15);\n",
              "      filter: drop-shadow(0px 1px 2px rgba(0, 0, 0, 0.3));\n",
              "      fill: #FFFFFF;\n",
              "    }\n",
              "  </style>\n",
              "\n",
              "      <script>\n",
              "        const buttonEl =\n",
              "          document.querySelector('#df-073555ed-2d11-44d1-bd59-228a1c331b1b button.colab-df-convert');\n",
              "        buttonEl.style.display =\n",
              "          google.colab.kernel.accessAllowed ? 'block' : 'none';\n",
              "\n",
              "        async function convertToInteractive(key) {\n",
              "          const element = document.querySelector('#df-073555ed-2d11-44d1-bd59-228a1c331b1b');\n",
              "          const dataTable =\n",
              "            await google.colab.kernel.invokeFunction('convertToInteractive',\n",
              "                                                     [key], {});\n",
              "          if (!dataTable) return;\n",
              "\n",
              "          const docLinkHtml = 'Like what you see? Visit the ' +\n",
              "            '<a target=\"_blank\" href=https://colab.research.google.com/notebooks/data_table.ipynb>data table notebook</a>'\n",
              "            + ' to learn more about interactive tables.';\n",
              "          element.innerHTML = '';\n",
              "          dataTable['output_type'] = 'display_data';\n",
              "          await google.colab.output.renderOutput(dataTable, element);\n",
              "          const docLink = document.createElement('div');\n",
              "          docLink.innerHTML = docLinkHtml;\n",
              "          element.appendChild(docLink);\n",
              "        }\n",
              "      </script>\n",
              "    </div>\n",
              "  </div>\n",
              "  "
            ]
          },
          "metadata": {}
        }
      ]
    },
    {
      "cell_type": "code",
      "source": [
        "# plotar um heatmap a partir das correlações\n",
        "sns.heatmap(mat_corr, cmap='RdBu', fmt='.2f', square=True, linecolor='white', annot=True );"
      ],
      "metadata": {
        "colab": {
          "base_uri": "https://localhost:8080/",
          "height": 411
        },
        "id": "meNITzCbrV0D",
        "outputId": "b210f74a-80f6-4635-a78a-29500cd05484"
      },
      "execution_count": 16,
      "outputs": [
        {
          "output_type": "display_data",
          "data": {
            "text/plain": [
              "<Figure size 432x288 with 2 Axes>"
            ],
            "image/png": "[encoded data removed]"
          },
          "metadata": {
            "needs_background": "light"
          }
        }
      ]
    },
    {
      "cell_type": "markdown",
      "source": [
        "### **Q7. Qual o tipo de imóvel mais alugado no Airbnb?**"
      ],
      "metadata": {
        "id": "uhDrPqavtHV8"
      }
    },
    {
      "cell_type": "code",
      "source": [
        "# mostrar a quantidade de cada tipo de imóvel disponível em Chicago\n",
        "df_clean.room_type.value_counts()"
      ],
      "metadata": {
        "colab": {
          "base_uri": "https://localhost:8080/"
        },
        "id": "7wfrJo8KtNa6",
        "outputId": "83cd8baa-bf75-4ef5-e2e5-8bf597d86ad7"
      },
      "execution_count": 17,
      "outputs": [
        {
          "output_type": "execute_result",
          "data": {
            "text/plain": [
              "Entire home/apt    2412\n",
              "Private room       1118\n",
              "Shared room          64\n",
              "Hotel room           16\n",
              "Name: room_type, dtype: int64"
            ]
          },
          "metadata": {},
          "execution_count": 17
        }
      ]
    },
    {
      "cell_type": "code",
      "source": [
        "# mostrar a porcentagem de cada tipo de imóvel disponível\n",
        "df_clean.room_type.value_counts()/df_clean.shape[0]"
      ],
      "metadata": {
        "colab": {
          "base_uri": "https://localhost:8080/"
        },
        "id": "YDiTaiX7tRlC",
        "outputId": "b14f2fb5-3617-4bc6-fccd-e76e7ae2df88"
      },
      "execution_count": 18,
      "outputs": [
        {
          "output_type": "execute_result",
          "data": {
            "text/plain": [
              "Entire home/apt    0.668144\n",
              "Private room       0.309695\n",
              "Shared room        0.017729\n",
              "Hotel room         0.004432\n",
              "Name: room_type, dtype: float64"
            ]
          },
          "metadata": {},
          "execution_count": 18
        }
      ]
    },
    {
      "cell_type": "markdown",
      "source": [
        "### **Q8. Qual a localidade mais cara de Chicago?**"
      ],
      "metadata": {
        "id": "XSGwgp_yuLAS"
      }
    },
    {
      "cell_type": "code",
      "source": [
        "# ver preços por bairros, na média\n",
        "df_clean.groupby(['neighbourhood']).price.mean().sort_values(ascending=False)[:20]"
      ],
      "metadata": {
        "colab": {
          "base_uri": "https://localhost:8080/"
        },
        "id": "mx0phgGpubeq",
        "outputId": "afb47845-8726-44dd-9e47-d7df04dcb62e"
      },
      "execution_count": 20,
      "outputs": [
        {
          "output_type": "execute_result",
          "data": {
            "text/plain": [
              "neighbourhood\n",
              "Burnside           200.000000\n",
              "Loop               163.081081\n",
              "Clearing           158.000000\n",
              "Near South Side    158.000000\n",
              "Riverdale          158.000000\n",
              "Lincoln Park       151.789474\n",
              "Near North Side    149.456376\n",
              "Morgan Park        148.555556\n",
              "North Center       145.245902\n",
              "Ashburn            137.181818\n",
              "Lake View          137.098182\n",
              "West Town          135.658120\n",
              "Douglas            134.301887\n",
              "Forest Glen        133.916667\n",
              "Avondale           133.679487\n",
              "Fuller Park        133.000000\n",
              "Logan Square       132.526316\n",
              "Pullman            132.500000\n",
              "Chatham            131.666667\n",
              "Auburn Gresham     127.875000\n",
              "Name: price, dtype: float64"
            ]
          },
          "metadata": {},
          "execution_count": 20
        }
      ]
    },
    {
      "cell_type": "code",
      "source": [
        "# plotar os imóveis pela latitude-longitude\n",
        "df_clean.plot(kind=\"scatter\", x='longitude', y='latitude', alpha=1, c=df_clean['price'], s=5,\n",
        "              cmap=plt.get_cmap('jet'), figsize=(12,8));"
      ],
      "metadata": {
        "colab": {
          "base_uri": "https://localhost:8080/",
          "height": 472
        },
        "id": "uVFd7XA4udKM",
        "outputId": "6f04e8a4-7f4e-46fa-e9f0-d92438c29983"
      },
      "execution_count": null,
      "outputs": [
        {
          "output_type": "display_data",
          "data": {
            "text/plain": [
              "<Figure size 864x576 with 2 Axes>"
            ],
            "image/png": "[encoded data removed]"
          },
          "metadata": {
            "needs_background": "light"
          }
        }
      ]
    },
    {
      "cell_type": "markdown",
      "source": [
        "### **Q9. Qual é a média do mínimo de noites para aluguel (minimum_nights)?**\n"
      ],
      "metadata": {
        "id": "crUNcgDfzKM4"
      }
    },
    {
      "cell_type": "code",
      "source": [
        "# ver a média da coluna `minimum_nights``\n",
        "df_clean.minimum_nights.mean()"
      ],
      "metadata": {
        "colab": {
          "base_uri": "https://localhost:8080/"
        },
        "id": "VG58eRL6zWBI",
        "outputId": "ddf22254-ff45-4d90-a33a-b968b685dc9b"
      },
      "execution_count": null,
      "outputs": [
        {
          "output_type": "execute_result",
          "data": {
            "text/plain": [
              "2.956786703601108"
            ]
          },
          "metadata": {},
          "execution_count": 35
        }
      ]
    },
    {
      "cell_type": "markdown",
      "source": [
        "## Conclusões"
      ],
      "metadata": {
        "id": "YEE8gU92znAZ"
      }
    },
    {
      "cell_type": "markdown",
      "source": [
        "Os dados fornecidos possuem uma alta incidência de outliers, foi necessário tirar dos dados os outliers. Não há muita correlação entre os atributos, exceto o número de comentários x quantidades de comentários por mês.\n",
        "\n",
        "Para a cidade de Chicago, os hóspedes preferem alugar um apartamento/casa inteira, com mais de 66% de incidência.\n",
        "\n",
        "Dentre os bairros citados, o Burnside possui os maiores valores de diárias, apesar de ser um bairro a ser evitado por causa da violência, conforme reportagem do site https://estatousa.com/pt-pt/os-dez-bairros-de-chicago-mais-perigosos/\n",
        "\n",
        "Entretanto, os resultados estão coerentes quando citamos, por exemplo, os bairros Pullman, Fuller Park e Chatham, que devido à alta incidência de violência, possuem os menores valores de diárias.\n"
      ],
      "metadata": {
        "id": "2zvqanhWzp9K"
      }
    }
  ]
}